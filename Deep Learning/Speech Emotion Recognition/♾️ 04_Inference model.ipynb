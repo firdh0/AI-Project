{
 "cells": [
  {
   "cell_type": "code",
   "execution_count": 2,
   "metadata": {},
   "outputs": [
    {
     "name": "stderr",
     "output_type": "stream",
     "text": [
      "c:\\Users\\LENOVO YOGA\\Music\\FINAL PROJECT\\finalproject\\lib\\site-packages\\tqdm\\auto.py:21: TqdmWarning: IProgress not found. Please update jupyter and ipywidgets. See https://ipywidgets.readthedocs.io/en/stable/user_install.html\n",
      "  from .autonotebook import tqdm as notebook_tqdm\n"
     ]
    },
    {
     "name": "stdout",
     "output_type": "stream",
     "text": [
      "WARNING:tensorflow:From c:\\Users\\LENOVO YOGA\\Music\\FINAL PROJECT\\finalproject\\lib\\site-packages\\keras\\src\\losses.py:2976: The name tf.losses.sparse_softmax_cross_entropy is deprecated. Please use tf.compat.v1.losses.sparse_softmax_cross_entropy instead.\n",
      "\n"
     ]
    }
   ],
   "source": [
    "import gradio as gr\n",
    "import librosa\n",
    "import numpy as np\n",
    "import pandas as pd\n",
    "import subprocess\n",
    "import tempfile\n",
    "import soundfile as sf\n",
    "import librosa.util\n",
    "import os\n",
    "import json\n",
    "\n",
    "from tensorflow.keras.models import load_model\n",
    "from sklearn.model_selection import train_test_split\n",
    "from sklearn.preprocessing import StandardScaler, OneHotEncoder"
   ]
  },
  {
   "cell_type": "code",
   "execution_count": 3,
   "metadata": {},
   "outputs": [
    {
     "name": "stdout",
     "output_type": "stream",
     "text": [
      "WARNING:tensorflow:From c:\\Users\\LENOVO YOGA\\Music\\FINAL PROJECT\\finalproject\\lib\\site-packages\\keras\\src\\backend.py:1398: The name tf.executing_eagerly_outside_functions is deprecated. Please use tf.compat.v1.executing_eagerly_outside_functions instead.\n",
      "\n",
      "WARNING:tensorflow:From c:\\Users\\LENOVO YOGA\\Music\\FINAL PROJECT\\finalproject\\lib\\site-packages\\keras\\src\\backend.py:6642: The name tf.nn.max_pool is deprecated. Please use tf.nn.max_pool2d instead.\n",
      "\n"
     ]
    }
   ],
   "source": [
    "model = load_model('./Result/features_maxpool.h5')"
   ]
  },
  {
   "cell_type": "code",
   "execution_count": 4,
   "metadata": {},
   "outputs": [
    {
     "data": {
      "text/html": [
       "<div>\n",
       "<style scoped>\n",
       "    .dataframe tbody tr th:only-of-type {\n",
       "        vertical-align: middle;\n",
       "    }\n",
       "\n",
       "    .dataframe tbody tr th {\n",
       "        vertical-align: top;\n",
       "    }\n",
       "\n",
       "    .dataframe thead th {\n",
       "        text-align: right;\n",
       "    }\n",
       "</style>\n",
       "<table border=\"1\" class=\"dataframe\">\n",
       "  <thead>\n",
       "    <tr style=\"text-align: right;\">\n",
       "      <th></th>\n",
       "      <th>0</th>\n",
       "      <th>1</th>\n",
       "      <th>2</th>\n",
       "      <th>3</th>\n",
       "      <th>4</th>\n",
       "      <th>5</th>\n",
       "      <th>6</th>\n",
       "      <th>7</th>\n",
       "      <th>8</th>\n",
       "      <th>9</th>\n",
       "      <th>...</th>\n",
       "      <th>153</th>\n",
       "      <th>154</th>\n",
       "      <th>155</th>\n",
       "      <th>156</th>\n",
       "      <th>157</th>\n",
       "      <th>158</th>\n",
       "      <th>159</th>\n",
       "      <th>160</th>\n",
       "      <th>161</th>\n",
       "      <th>labels</th>\n",
       "    </tr>\n",
       "  </thead>\n",
       "  <tbody>\n",
       "    <tr>\n",
       "      <th>0</th>\n",
       "      <td>0.321275</td>\n",
       "      <td>0.729664</td>\n",
       "      <td>0.750033</td>\n",
       "      <td>0.730624</td>\n",
       "      <td>0.735275</td>\n",
       "      <td>0.713529</td>\n",
       "      <td>0.660531</td>\n",
       "      <td>0.684966</td>\n",
       "      <td>0.733049</td>\n",
       "      <td>0.753972</td>\n",
       "      <td>...</td>\n",
       "      <td>0.000004</td>\n",
       "      <td>0.000003</td>\n",
       "      <td>2.148075e-06</td>\n",
       "      <td>0.000002</td>\n",
       "      <td>5.116493e-06</td>\n",
       "      <td>0.000008</td>\n",
       "      <td>0.000007</td>\n",
       "      <td>0.000005</td>\n",
       "      <td>4.245834e-07</td>\n",
       "      <td>neutral</td>\n",
       "    </tr>\n",
       "    <tr>\n",
       "      <th>1</th>\n",
       "      <td>0.329644</td>\n",
       "      <td>0.812227</td>\n",
       "      <td>0.842488</td>\n",
       "      <td>0.818939</td>\n",
       "      <td>0.817773</td>\n",
       "      <td>0.826914</td>\n",
       "      <td>0.705060</td>\n",
       "      <td>0.680788</td>\n",
       "      <td>0.741229</td>\n",
       "      <td>0.776480</td>\n",
       "      <td>...</td>\n",
       "      <td>0.000103</td>\n",
       "      <td>0.000109</td>\n",
       "      <td>1.025398e-04</td>\n",
       "      <td>0.000106</td>\n",
       "      <td>1.073939e-04</td>\n",
       "      <td>0.000113</td>\n",
       "      <td>0.000109</td>\n",
       "      <td>0.000110</td>\n",
       "      <td>1.017026e-04</td>\n",
       "      <td>neutral</td>\n",
       "    </tr>\n",
       "    <tr>\n",
       "      <th>2</th>\n",
       "      <td>0.320629</td>\n",
       "      <td>0.740885</td>\n",
       "      <td>0.739738</td>\n",
       "      <td>0.723335</td>\n",
       "      <td>0.736451</td>\n",
       "      <td>0.681295</td>\n",
       "      <td>0.652557</td>\n",
       "      <td>0.701629</td>\n",
       "      <td>0.746103</td>\n",
       "      <td>0.748172</td>\n",
       "      <td>...</td>\n",
       "      <td>0.000004</td>\n",
       "      <td>0.000003</td>\n",
       "      <td>2.148074e-06</td>\n",
       "      <td>0.000002</td>\n",
       "      <td>5.116453e-06</td>\n",
       "      <td>0.000008</td>\n",
       "      <td>0.000007</td>\n",
       "      <td>0.000005</td>\n",
       "      <td>4.245776e-07</td>\n",
       "      <td>neutral</td>\n",
       "    </tr>\n",
       "    <tr>\n",
       "      <th>3</th>\n",
       "      <td>0.173025</td>\n",
       "      <td>0.674528</td>\n",
       "      <td>0.752073</td>\n",
       "      <td>0.725325</td>\n",
       "      <td>0.729231</td>\n",
       "      <td>0.728289</td>\n",
       "      <td>0.665119</td>\n",
       "      <td>0.660569</td>\n",
       "      <td>0.720074</td>\n",
       "      <td>0.758500</td>\n",
       "      <td>...</td>\n",
       "      <td>0.000002</td>\n",
       "      <td>0.000001</td>\n",
       "      <td>9.037616e-07</td>\n",
       "      <td>0.000001</td>\n",
       "      <td>2.595818e-06</td>\n",
       "      <td>0.000004</td>\n",
       "      <td>0.000003</td>\n",
       "      <td>0.000002</td>\n",
       "      <td>2.633245e-07</td>\n",
       "      <td>neutral</td>\n",
       "    </tr>\n",
       "    <tr>\n",
       "      <th>4</th>\n",
       "      <td>0.187771</td>\n",
       "      <td>0.680198</td>\n",
       "      <td>0.720626</td>\n",
       "      <td>0.727919</td>\n",
       "      <td>0.707194</td>\n",
       "      <td>0.688234</td>\n",
       "      <td>0.673348</td>\n",
       "      <td>0.659386</td>\n",
       "      <td>0.664930</td>\n",
       "      <td>0.744040</td>\n",
       "      <td>...</td>\n",
       "      <td>0.000001</td>\n",
       "      <td>0.000002</td>\n",
       "      <td>1.496186e-06</td>\n",
       "      <td>0.000001</td>\n",
       "      <td>8.177922e-07</td>\n",
       "      <td>0.000001</td>\n",
       "      <td>0.000003</td>\n",
       "      <td>0.000002</td>\n",
       "      <td>1.389039e-07</td>\n",
       "      <td>neutral</td>\n",
       "    </tr>\n",
       "  </tbody>\n",
       "</table>\n",
       "<p>5 rows × 163 columns</p>\n",
       "</div>"
      ],
      "text/plain": [
       "          0         1         2         3         4         5         6  \\\n",
       "0  0.321275  0.729664  0.750033  0.730624  0.735275  0.713529  0.660531   \n",
       "1  0.329644  0.812227  0.842488  0.818939  0.817773  0.826914  0.705060   \n",
       "2  0.320629  0.740885  0.739738  0.723335  0.736451  0.681295  0.652557   \n",
       "3  0.173025  0.674528  0.752073  0.725325  0.729231  0.728289  0.665119   \n",
       "4  0.187771  0.680198  0.720626  0.727919  0.707194  0.688234  0.673348   \n",
       "\n",
       "          7         8         9  ...       153       154           155  \\\n",
       "0  0.684966  0.733049  0.753972  ...  0.000004  0.000003  2.148075e-06   \n",
       "1  0.680788  0.741229  0.776480  ...  0.000103  0.000109  1.025398e-04   \n",
       "2  0.701629  0.746103  0.748172  ...  0.000004  0.000003  2.148074e-06   \n",
       "3  0.660569  0.720074  0.758500  ...  0.000002  0.000001  9.037616e-07   \n",
       "4  0.659386  0.664930  0.744040  ...  0.000001  0.000002  1.496186e-06   \n",
       "\n",
       "        156           157       158       159       160           161   labels  \n",
       "0  0.000002  5.116493e-06  0.000008  0.000007  0.000005  4.245834e-07  neutral  \n",
       "1  0.000106  1.073939e-04  0.000113  0.000109  0.000110  1.017026e-04  neutral  \n",
       "2  0.000002  5.116453e-06  0.000008  0.000007  0.000005  4.245776e-07  neutral  \n",
       "3  0.000001  2.595818e-06  0.000004  0.000003  0.000002  2.633245e-07  neutral  \n",
       "4  0.000001  8.177922e-07  0.000001  0.000003  0.000002  1.389039e-07  neutral  \n",
       "\n",
       "[5 rows x 163 columns]"
      ]
     },
     "execution_count": 4,
     "metadata": {},
     "output_type": "execute_result"
    }
   ],
   "source": [
    "Features = pd.read_csv('./Features/features_lstm.csv')\n",
    "\n",
    "Features.head()"
   ]
  },
  {
   "cell_type": "code",
   "execution_count": 5,
   "metadata": {},
   "outputs": [],
   "source": [
    "X = Features.iloc[: ,:-1].values\n",
    "Y = Features['labels'].values"
   ]
  },
  {
   "cell_type": "code",
   "execution_count": 6,
   "metadata": {},
   "outputs": [],
   "source": [
    "encoder = OneHotEncoder()\n",
    "Y = encoder.fit_transform(np.array(Y).reshape(-1,1)).toarray()"
   ]
  },
  {
   "cell_type": "code",
   "execution_count": 7,
   "metadata": {},
   "outputs": [
    {
     "data": {
      "text/plain": [
       "((16643, 162), (16643, 4), (4161, 162), (4161, 4))"
      ]
     },
     "execution_count": 7,
     "metadata": {},
     "output_type": "execute_result"
    }
   ],
   "source": [
    "x_train, x_test, y_train, y_test = train_test_split(X, Y, test_size=0.2, random_state=42, shuffle=True)\n",
    "x_train.shape, y_train.shape, x_test.shape, y_test.shape"
   ]
  },
  {
   "cell_type": "code",
   "execution_count": 7,
   "metadata": {},
   "outputs": [
    {
     "data": {
      "text/plain": [
       "array([[2.57256086e-01, 6.66075630e-01, 7.53175834e-01, ...,\n",
       "        4.27676872e-03, 4.37785700e-03, 4.32584729e-03],\n",
       "       [1.90836589e-01, 5.88535607e-01, 4.78869438e-01, ...,\n",
       "        1.53513465e-04, 9.25308195e-05, 7.09372534e-06],\n",
       "       [3.85632461e-02, 3.40149820e-01, 2.84093827e-01, ...,\n",
       "        7.82231655e-06, 2.78822995e-06, 1.55291218e-07],\n",
       "       ...,\n",
       "       [3.51725260e-02, 1.81827247e-01, 2.22813800e-01, ...,\n",
       "        4.83322128e-06, 2.92683194e-06, 2.38465447e-07],\n",
       "       [1.31622314e-01, 5.22881925e-01, 4.80539739e-01, ...,\n",
       "        8.85621412e-05, 3.21167572e-05, 2.31947320e-06],\n",
       "       [8.08654785e-02, 4.12712008e-01, 3.97607505e-01, ...,\n",
       "        7.77307068e-05, 3.92414040e-05, 3.12272323e-06]])"
      ]
     },
     "execution_count": 7,
     "metadata": {},
     "output_type": "execute_result"
    }
   ],
   "source": [
    "x_train"
   ]
  },
  {
   "cell_type": "code",
   "execution_count": 8,
   "metadata": {},
   "outputs": [
    {
     "data": {
      "text/plain": [
       "((16643, 162), (16643, 4), (4161, 162), (4161, 4))"
      ]
     },
     "execution_count": 8,
     "metadata": {},
     "output_type": "execute_result"
    }
   ],
   "source": [
    "scaler = StandardScaler()\n",
    "x_train = scaler.fit_transform(x_train)\n",
    "x_test = scaler.transform(x_test)\n",
    "x_train.shape, y_train.shape, x_test.shape, y_test.shape"
   ]
  },
  {
   "cell_type": "code",
   "execution_count": 9,
   "metadata": {},
   "outputs": [
    {
     "data": {
      "text/plain": [
       "array([[ 2.05917922,  1.14842133,  1.74900153, ...,  0.46360944,\n",
       "         0.56244877,  0.65110203],\n",
       "       [ 1.1412455 ,  0.59629822, -0.24527631, ..., -0.19767108,\n",
       "        -0.17928799, -0.14844011],\n",
       "       [-0.96320935, -1.17233078, -1.66134495, ..., -0.22103677,\n",
       "        -0.19482132, -0.14972464],\n",
       "       ...,\n",
       "       [-1.01006993, -2.29966538, -2.10686646, ..., -0.22151616,\n",
       "        -0.19479733, -0.14970924],\n",
       "       [ 0.32288975,  0.12881171, -0.23313279, ..., -0.20808786,\n",
       "        -0.18974492, -0.14932398],\n",
       "       [-0.37858215, -0.6556523 , -0.8360714 , ..., -0.20982499,\n",
       "        -0.18851173, -0.14917527]])"
      ]
     },
     "execution_count": 9,
     "metadata": {},
     "output_type": "execute_result"
    }
   ],
   "source": [
    "x_train"
   ]
  },
  {
   "cell_type": "code",
   "execution_count": 9,
   "metadata": {},
   "outputs": [
    {
     "data": {
      "text/plain": [
       "((16643, 162, 1), (16643, 4), (4161, 162, 1), (4161, 4))"
      ]
     },
     "execution_count": 9,
     "metadata": {},
     "output_type": "execute_result"
    }
   ],
   "source": [
    "x_train = np.expand_dims(x_train, axis=2)\n",
    "x_test = np.expand_dims(x_test, axis=2)\n",
    "x_train.shape, y_train.shape, x_test.shape, y_test.shape"
   ]
  },
  {
   "cell_type": "code",
   "execution_count": 10,
   "metadata": {},
   "outputs": [
    {
     "name": "stdout",
     "output_type": "stream",
     "text": [
      "131/131 [==============================] - 15s 111ms/step\n"
     ]
    }
   ],
   "source": [
    "pred_test = model.predict(x_test)\n",
    "y_pred = encoder.inverse_transform(pred_test)\n",
    "\n",
    "y_actual = encoder.inverse_transform(y_test)"
   ]
  },
  {
   "cell_type": "code",
   "execution_count": 11,
   "metadata": {},
   "outputs": [
    {
     "data": {
      "text/html": [
       "<div>\n",
       "<style scoped>\n",
       "    .dataframe tbody tr th:only-of-type {\n",
       "        vertical-align: middle;\n",
       "    }\n",
       "\n",
       "    .dataframe tbody tr th {\n",
       "        vertical-align: top;\n",
       "    }\n",
       "\n",
       "    .dataframe thead th {\n",
       "        text-align: right;\n",
       "    }\n",
       "</style>\n",
       "<table border=\"1\" class=\"dataframe\">\n",
       "  <thead>\n",
       "    <tr style=\"text-align: right;\">\n",
       "      <th></th>\n",
       "      <th>Predicted Labels</th>\n",
       "      <th>Actual Labels</th>\n",
       "    </tr>\n",
       "  </thead>\n",
       "  <tbody>\n",
       "    <tr>\n",
       "      <th>0</th>\n",
       "      <td>happy</td>\n",
       "      <td>happy</td>\n",
       "    </tr>\n",
       "    <tr>\n",
       "      <th>1</th>\n",
       "      <td>sad</td>\n",
       "      <td>sad</td>\n",
       "    </tr>\n",
       "    <tr>\n",
       "      <th>2</th>\n",
       "      <td>neutral</td>\n",
       "      <td>neutral</td>\n",
       "    </tr>\n",
       "    <tr>\n",
       "      <th>3</th>\n",
       "      <td>sad</td>\n",
       "      <td>sad</td>\n",
       "    </tr>\n",
       "    <tr>\n",
       "      <th>4</th>\n",
       "      <td>neutral</td>\n",
       "      <td>neutral</td>\n",
       "    </tr>\n",
       "    <tr>\n",
       "      <th>5</th>\n",
       "      <td>angry</td>\n",
       "      <td>happy</td>\n",
       "    </tr>\n",
       "    <tr>\n",
       "      <th>6</th>\n",
       "      <td>happy</td>\n",
       "      <td>happy</td>\n",
       "    </tr>\n",
       "    <tr>\n",
       "      <th>7</th>\n",
       "      <td>happy</td>\n",
       "      <td>happy</td>\n",
       "    </tr>\n",
       "    <tr>\n",
       "      <th>8</th>\n",
       "      <td>angry</td>\n",
       "      <td>angry</td>\n",
       "    </tr>\n",
       "    <tr>\n",
       "      <th>9</th>\n",
       "      <td>sad</td>\n",
       "      <td>sad</td>\n",
       "    </tr>\n",
       "    <tr>\n",
       "      <th>10</th>\n",
       "      <td>happy</td>\n",
       "      <td>happy</td>\n",
       "    </tr>\n",
       "    <tr>\n",
       "      <th>11</th>\n",
       "      <td>happy</td>\n",
       "      <td>happy</td>\n",
       "    </tr>\n",
       "    <tr>\n",
       "      <th>12</th>\n",
       "      <td>angry</td>\n",
       "      <td>angry</td>\n",
       "    </tr>\n",
       "    <tr>\n",
       "      <th>13</th>\n",
       "      <td>happy</td>\n",
       "      <td>angry</td>\n",
       "    </tr>\n",
       "    <tr>\n",
       "      <th>14</th>\n",
       "      <td>neutral</td>\n",
       "      <td>neutral</td>\n",
       "    </tr>\n",
       "  </tbody>\n",
       "</table>\n",
       "</div>"
      ],
      "text/plain": [
       "   Predicted Labels Actual Labels\n",
       "0             happy         happy\n",
       "1               sad           sad\n",
       "2           neutral       neutral\n",
       "3               sad           sad\n",
       "4           neutral       neutral\n",
       "5             angry         happy\n",
       "6             happy         happy\n",
       "7             happy         happy\n",
       "8             angry         angry\n",
       "9               sad           sad\n",
       "10            happy         happy\n",
       "11            happy         happy\n",
       "12            angry         angry\n",
       "13            happy         angry\n",
       "14          neutral       neutral"
      ]
     },
     "execution_count": 11,
     "metadata": {},
     "output_type": "execute_result"
    }
   ],
   "source": [
    "df_pred_vs_actual = pd.DataFrame(columns=['Predicted Labels', 'Actual Labels'])\n",
    "df_pred_vs_actual['Predicted Labels'] = y_pred.flatten()\n",
    "df_pred_vs_actual['Actual Labels'] = y_actual.flatten()\n",
    "\n",
    "df_pred_vs_actual.head(15)"
   ]
  },
  {
   "cell_type": "code",
   "execution_count": 44,
   "metadata": {},
   "outputs": [],
   "source": [
    "def noise(data):\n",
    "    noise_amp = 0.04*np.random.uniform()*np.amax(data)\n",
    "    data = data + noise_amp*np.random.normal(size=data.shape[0])\n",
    "    return data\n",
    "\n",
    "def time_shift(data):\n",
    "    shift_range = int(np.random.uniform(low=-5, high = 5)*1000)\n",
    "    return np.roll(data, shift_range)\n",
    "\n",
    "def stretch(data, rate=0.8):\n",
    "    return librosa.effects.time_stretch(y=data, rate=rate)\n",
    "\n",
    "def pitch_change(data, sampling_rate):\n",
    "    return librosa.effects.pitch_shift(data, sr=sampling_rate, n_steps=0.8)\n",
    "\n",
    "def higher_speed(data):\n",
    "    return librosa.effects.time_stretch(y=data, rate=1.25)\n",
    "\n",
    "def lower_speed(data):\n",
    "    return librosa.effects.time_stretch(y=data, rate=0.75)"
   ]
  },
  {
   "cell_type": "code",
   "execution_count": 45,
   "metadata": {},
   "outputs": [],
   "source": [
    "def extract_features(data):\n",
    "    # ZCR\n",
    "    result = np.array([])\n",
    "    zcr = np.mean(librosa.feature.zero_crossing_rate(y=data).T, axis=0)\n",
    "    result=np.hstack((result, zcr)) # stacking horizontally\n",
    "\n",
    "    # Chroma_stft\n",
    "    stft = np.abs(librosa.stft(data))\n",
    "    chroma_stft = np.mean(librosa.feature.chroma_stft(S=stft, sr=22050).T, axis=0)\n",
    "    result = np.hstack((result, chroma_stft)) # stacking horizontally\n",
    "\n",
    "    # MFCC\n",
    "    mfcc = np.mean(librosa.feature.mfcc(y=data, sr=22050).T, axis=0)\n",
    "    result = np.hstack((result, mfcc)) # stacking horizontally\n",
    "\n",
    "    # Root Mean Square Value\n",
    "    rms = np.mean(librosa.feature.rms(y=data).T, axis=0)\n",
    "    result = np.hstack((result, rms)) # stacking horizontally\n",
    "\n",
    "    # MelSpectogram\n",
    "    mel = np.mean(librosa.feature.melspectrogram(y=data, sr=22050).T, axis=0)\n",
    "    result = np.hstack((result, mel)) # stacking horizontally\n",
    "    \n",
    "    return result"
   ]
  },
  {
   "cell_type": "code",
   "execution_count": 46,
   "metadata": {},
   "outputs": [],
   "source": [
    "# def get_features(path):\n",
    "def get_features(path):\n",
    "    # duration and offset are used to take care of the no audio in start and the ending of each audio files as seen above.\n",
    "    data, sample_rate = librosa.load(path, duration=2.5, offset=0.6)\n",
    "\n",
    "    \n",
    "    # data = librosa.util.normalize(data.astype(np.float32))\n",
    "    \n",
    "    # without augmentation\n",
    "    res1 = extract_features(data)\n",
    "    result = np.array(res1)\n",
    "    \n",
    "    # data with noise\n",
    "    noise_data = noise(data)\n",
    "    res2 = extract_features(noise_data)\n",
    "    result = np.vstack((result, res2)) # stacking vertically\n",
    "\n",
    "    timeshift_data = time_shift(data)\n",
    "    res3 = extract_features(timeshift_data)\n",
    "    result = np.vstack((result, res3))\n",
    "\n",
    "    speedchange_data = stretch(data)\n",
    "    res4 = extract_features(speedchange_data)\n",
    "    result = np.vstack((result, res4))\n",
    "\n",
    "    pitchchange_data = pitch_change(data, sample_rate)\n",
    "    res5 = extract_features(pitchchange_data)\n",
    "    result = np.vstack((result, res5))\n",
    "\n",
    "    highspeed_data = higher_speed(data)\n",
    "    res6 = extract_features(highspeed_data)\n",
    "    result = np.vstack((result, res6))\n",
    "\n",
    "    lowerspeed_data = lower_speed(data)\n",
    "    res7 = extract_features(lowerspeed_data)\n",
    "    result = np.vstack((result, res7))\n",
    "\n",
    "    \n",
    "    return result"
   ]
  },
  {
   "cell_type": "code",
   "execution_count": 47,
   "metadata": {},
   "outputs": [],
   "source": [
    "def predict_audio_classification(path):\n",
    "\n",
    "    # rate, y = audio\n",
    "\n",
    "    # with sf.SoundFile('temp_audio.wav', 'w', rate, 2) as f:\n",
    "    #     f.write(data)\n",
    "\n",
    "    # audio, sr = librosa.load('temp_audio.wav', sr=rate, duration=2.5, offset=0.6)\n",
    "\n",
    "    # os.remove('temp_audio.wav')\n",
    "    feature_test = get_features(path)\n",
    "    test_input = []\n",
    "    for ele in feature_test:\n",
    "        test_input.append(ele)\n",
    "    \n",
    "    feat_test = pd.DataFrame(test_input)\n",
    "    test_X = feat_test.values\n",
    "    test_X = scaler.transform(test_X)\n",
    "    test_X = np.expand_dims(test_X, axis=2)\n",
    "\n",
    "    pred_sub = model.predict(test_X, batch_size = 32)\n",
    "    y_sub = encoder.inverse_transform(pred_sub)\n",
    "    classes = y_sub.flatten()[2]\n",
    "\n",
    "    return classes\n",
    "\n",
    "    # print(classes)    \n",
    "\n",
    "    # return classes\n",
    "    # _classes = {\n",
    "    #     'angry': 'marah', \n",
    "    #     'calm': 'tenang', \n",
    "    #     'disgust': 'jijik', \n",
    "    #     'fearful': 'menakutkan', \n",
    "    #     'happy': 'senang', \n",
    "    #     'neutral': 'netral', \n",
    "    #     'sad': 'sedih', \n",
    "    #     'surprised': 'terkejut'\n",
    "    # }\n",
    "\n",
    "    # # Membuat dictionary untuk menyimpan jumlah prediksi untuk setiap kelas\n",
    "    # class_count = {label: 0 for label in _classes.values()}\n",
    "    \n",
    "    # # Menghitung jumlah prediksi untuk setiap kelas\n",
    "    # for pred_label in y_sub.flatten():\n",
    "    #     class_count[_classes[pred_label]] += 1\n",
    "    \n",
    "    # # Menghitung total prediksi\n",
    "    # total_predictions = len(y_sub)\n",
    "    \n",
    "    # # Menghitung akurasi untuk setiap kelas\n",
    "    # class_accuracy = {}\n",
    "    # for label, count in class_count.items():\n",
    "    #     class_accuracy[label] = count / total_predictions\n",
    "    \n",
    "    # class_accuracy = {k: float(v) for k, v in class_accuracy.items()}\n",
    "\n",
    "    # return class_accuracy\n",
    "    "
   ]
  },
  {
   "cell_type": "code",
   "execution_count": 48,
   "metadata": {},
   "outputs": [
    {
     "name": "stdout",
     "output_type": "stream",
     "text": [
      "Running on local URL:  http://127.0.0.1:7860\n",
      "\n",
      "To create a public link, set `share=True` in `launch()`.\n"
     ]
    },
    {
     "data": {
      "text/html": [
       "<div><iframe src=\"http://127.0.0.1:7860/\" width=\"100%\" height=\"500\" allow=\"autoplay; camera; microphone; clipboard-read; clipboard-write;\" frameborder=\"0\" allowfullscreen></iframe></div>"
      ],
      "text/plain": [
       "<IPython.core.display.HTML object>"
      ]
     },
     "metadata": {},
     "output_type": "display_data"
    },
    {
     "name": "stderr",
     "output_type": "stream",
     "text": [
      "C:\\Users\\LENOVO YOGA\\AppData\\Local\\Temp\\ipykernel_18788\\1010208508.py:4: UserWarning: PySoundFile failed. Trying audioread instead.\n",
      "  data, sample_rate = librosa.load(path, duration=2.5, offset=0.6)\n",
      "c:\\Users\\LENOVO YOGA\\Music\\FINAL PROJECT\\finalproject\\lib\\site-packages\\librosa\\core\\audio.py:183: FutureWarning: librosa.core.audio.__audioread_load\n",
      "\tDeprecated as of librosa version 0.10.0.\n",
      "\tIt will be removed in librosa version 1.0.\n",
      "  y, sr_native = __audioread_load(path, offset, duration, dtype)\n",
      "Traceback (most recent call last):\n",
      "  File \"c:\\Users\\LENOVO YOGA\\Music\\FINAL PROJECT\\finalproject\\lib\\site-packages\\librosa\\core\\audio.py\", line 175, in load\n",
      "    y, sr_native = __soundfile_load(path, offset, duration, dtype)\n",
      "  File \"c:\\Users\\LENOVO YOGA\\Music\\FINAL PROJECT\\finalproject\\lib\\site-packages\\librosa\\core\\audio.py\", line 208, in __soundfile_load\n",
      "    context = sf.SoundFile(path)\n",
      "  File \"c:\\Users\\LENOVO YOGA\\Music\\FINAL PROJECT\\finalproject\\lib\\site-packages\\soundfile.py\", line 658, in __init__\n",
      "    self._file = self._open(file, mode_int, closefd)\n",
      "  File \"c:\\Users\\LENOVO YOGA\\Music\\FINAL PROJECT\\finalproject\\lib\\site-packages\\soundfile.py\", line 1216, in _open\n",
      "    raise LibsndfileError(err, prefix=\"Error opening {0!r}: \".format(self.name))\n",
      "soundfile.LibsndfileError: Error opening '\"C:\\\\Users\\\\LENOVO YOGA\\\\Music\\\\FINAL PROJECT\\\\BU TEJO NGAMUKK.mp3\"': System error.\n",
      "\n",
      "During handling of the above exception, another exception occurred:\n",
      "\n",
      "Traceback (most recent call last):\n",
      "  File \"c:\\Users\\LENOVO YOGA\\Music\\FINAL PROJECT\\finalproject\\lib\\site-packages\\gradio\\queueing.py\", line 495, in call_prediction\n",
      "    output = await route_utils.call_process_api(\n",
      "  File \"c:\\Users\\LENOVO YOGA\\Music\\FINAL PROJECT\\finalproject\\lib\\site-packages\\gradio\\route_utils.py\", line 232, in call_process_api\n",
      "    output = await app.get_blocks().process_api(\n",
      "  File \"c:\\Users\\LENOVO YOGA\\Music\\FINAL PROJECT\\finalproject\\lib\\site-packages\\gradio\\blocks.py\", line 1561, in process_api\n",
      "    result = await self.call_function(\n",
      "  File \"c:\\Users\\LENOVO YOGA\\Music\\FINAL PROJECT\\finalproject\\lib\\site-packages\\gradio\\blocks.py\", line 1179, in call_function\n",
      "    prediction = await anyio.to_thread.run_sync(\n",
      "  File \"c:\\Users\\LENOVO YOGA\\Music\\FINAL PROJECT\\finalproject\\lib\\site-packages\\anyio\\to_thread.py\", line 56, in run_sync\n",
      "    return await get_async_backend().run_sync_in_worker_thread(\n",
      "  File \"c:\\Users\\LENOVO YOGA\\Music\\FINAL PROJECT\\finalproject\\lib\\site-packages\\anyio\\_backends\\_asyncio.py\", line 2134, in run_sync_in_worker_thread\n",
      "    return await future\n",
      "  File \"c:\\Users\\LENOVO YOGA\\Music\\FINAL PROJECT\\finalproject\\lib\\site-packages\\anyio\\_backends\\_asyncio.py\", line 851, in run\n",
      "    result = context.run(func, *args)\n",
      "  File \"c:\\Users\\LENOVO YOGA\\Music\\FINAL PROJECT\\finalproject\\lib\\site-packages\\gradio\\utils.py\", line 695, in wrapper\n",
      "    response = f(*args, **kwargs)\n",
      "  File \"C:\\Users\\LENOVO YOGA\\AppData\\Local\\Temp\\ipykernel_18788\\179971249.py\", line 11, in predict_audio_classification\n",
      "    feature_test = get_features(path)\n",
      "  File \"C:\\Users\\LENOVO YOGA\\AppData\\Local\\Temp\\ipykernel_18788\\1010208508.py\", line 4, in get_features\n",
      "    data, sample_rate = librosa.load(path, duration=2.5, offset=0.6)\n",
      "  File \"c:\\Users\\LENOVO YOGA\\Music\\FINAL PROJECT\\finalproject\\lib\\site-packages\\librosa\\core\\audio.py\", line 183, in load\n",
      "    y, sr_native = __audioread_load(path, offset, duration, dtype)\n",
      "  File \"<decorator-gen-20>\", line 2, in __audioread_load\n",
      "  File \"c:\\Users\\LENOVO YOGA\\Music\\FINAL PROJECT\\finalproject\\lib\\site-packages\\librosa\\util\\decorators.py\", line 59, in __wrapper\n",
      "    return func(*args, **kwargs)\n",
      "  File \"c:\\Users\\LENOVO YOGA\\Music\\FINAL PROJECT\\finalproject\\lib\\site-packages\\librosa\\core\\audio.py\", line 239, in __audioread_load\n",
      "    reader = audioread.audio_open(path)\n",
      "  File \"c:\\Users\\LENOVO YOGA\\Music\\FINAL PROJECT\\finalproject\\lib\\site-packages\\audioread\\__init__.py\", line 127, in audio_open\n",
      "    return BackendClass(path)\n",
      "  File \"c:\\Users\\LENOVO YOGA\\Music\\FINAL PROJECT\\finalproject\\lib\\site-packages\\audioread\\rawread.py\", line 59, in __init__\n",
      "    self._fh = open(filename, 'rb')\n",
      "OSError: [Errno 22] Invalid argument: '\"C:\\\\Users\\\\LENOVO YOGA\\\\Music\\\\FINAL PROJECT\\\\BU TEJO NGAMUKK.mp3\"'\n"
     ]
    },
    {
     "name": "stdout",
     "output_type": "stream",
     "text": [
      "1/1 [==============================] - 0s 57ms/step\n"
     ]
    },
    {
     "name": "stderr",
     "output_type": "stream",
     "text": [
      "C:\\Users\\LENOVO YOGA\\AppData\\Local\\Temp\\ipykernel_18788\\1010208508.py:4: UserWarning: PySoundFile failed. Trying audioread instead.\n",
      "  data, sample_rate = librosa.load(path, duration=2.5, offset=0.6)\n",
      "c:\\Users\\LENOVO YOGA\\Music\\FINAL PROJECT\\finalproject\\lib\\site-packages\\librosa\\core\\audio.py:183: FutureWarning: librosa.core.audio.__audioread_load\n",
      "\tDeprecated as of librosa version 0.10.0.\n",
      "\tIt will be removed in librosa version 1.0.\n",
      "  y, sr_native = __audioread_load(path, offset, duration, dtype)\n"
     ]
    },
    {
     "name": "stdout",
     "output_type": "stream",
     "text": [
      "1/1 [==============================] - 0s 50ms/step\n",
      "Keyboard interruption in main thread... closing server.\n"
     ]
    },
    {
     "data": {
      "text/plain": []
     },
     "execution_count": 48,
     "metadata": {},
     "output_type": "execute_result"
    }
   ],
   "source": [
    "# audio_input = gr.Audio(label=\"Upload audio file\")\n",
    "# label = gr.Textbox(label=\"Prediction\")\n",
    "\n",
    "audio_input = gr.Textbox(label=\"Path audio file (.wav)\")\n",
    "label = gr.Label(label=\"Probabilitas prediksi\")\n",
    "\n",
    "gr.Interface(fn=predict_audio_classification, inputs=audio_input, outputs=label).launch(debug=True)"
   ]
  },
  {
   "cell_type": "code",
   "execution_count": 41,
   "metadata": {},
   "outputs": [
    {
     "data": {
      "text/plain": [
       "(array([-0.01382498, -0.01306044,  0.00397783, ...,  0.16554311,\n",
       "         0.20215431,  0.21546394], dtype=float32),\n",
       " 22050)"
      ]
     },
     "execution_count": 41,
     "metadata": {},
     "output_type": "execute_result"
    }
   ],
   "source": [
    "data, sample_rate = librosa.load('./BU TEJO NGAMUKK.mp3', duration=2.5, offset=0.6)\n",
    "\n",
    "data, sample_rate"
   ]
  },
  {
   "cell_type": "code",
   "execution_count": null,
   "metadata": {},
   "outputs": [],
   "source": []
  }
 ],
 "metadata": {
  "kernelspec": {
   "display_name": "finalproject",
   "language": "python",
   "name": "python3"
  },
  "language_info": {
   "codemirror_mode": {
    "name": "ipython",
    "version": 3
   },
   "file_extension": ".py",
   "mimetype": "text/x-python",
   "name": "python",
   "nbconvert_exporter": "python",
   "pygments_lexer": "ipython3",
   "version": "3.10.11"
  }
 },
 "nbformat": 4,
 "nbformat_minor": 2
}
