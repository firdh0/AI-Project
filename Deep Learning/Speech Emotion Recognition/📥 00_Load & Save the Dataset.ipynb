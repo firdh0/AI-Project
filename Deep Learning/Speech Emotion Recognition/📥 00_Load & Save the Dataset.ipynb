{
 "cells": [
  {
   "cell_type": "markdown",
   "metadata": {},
   "source": [
    "# 📢 File explanation!!\n",
    "Di dalam file ini, saya akan menggunakan perpustakaan `datasets` dari Huggingface untuk memuat dataset RAVDESS. Setelah itu, saya akan mengonversi data tersebut menjadi DataFrame dan menyimpannya dalam format .CSV. Langkah ini dilakukan agar mempermudah analisis data eksploratori (Exploratory Data Analysis/EDA) pada tahapan selanjutnya."
   ]
  },
  {
   "cell_type": "markdown",
   "metadata": {},
   "source": [
    "# 🎯 **Step 0: Import library**\n",
    "---"
   ]
  },
  {
   "cell_type": "code",
   "execution_count": 30,
   "metadata": {},
   "outputs": [],
   "source": [
    "# from datasets import load_dataset\n",
    "\n",
    "import os\n",
    "import pandas as pd"
   ]
  },
  {
   "cell_type": "markdown",
   "metadata": {},
   "source": [
    "# 🎯 **Step 1: Load dataset**\n",
    "---"
   ]
  },
  {
   "cell_type": "code",
   "execution_count": 31,
   "metadata": {},
   "outputs": [],
   "source": [
    "RAVDESS = \"./Dataset/Audio/Speech_RAVDESS\"\n",
    "SAVEE = \"./Dataset/Audio/Speech_SAVEE\"\n",
    "TESS = \"./Dataset/Audio/Speech_TESS\"\n",
    "URDU = \"./Dataset/Audio/Speech_URDU\""
   ]
  },
  {
   "cell_type": "markdown",
   "metadata": {},
   "source": [
    "## ✨ 1.1 RAVDESS Dataset"
   ]
  },
  {
   "cell_type": "markdown",
   "metadata": {},
   "source": [
    "https://zenodo.org/records/1188976#.XsAXemgzaUk"
   ]
  },
  {
   "cell_type": "code",
   "execution_count": 32,
   "metadata": {},
   "outputs": [
    {
     "data": {
      "text/html": [
       "<div>\n",
       "<style scoped>\n",
       "    .dataframe tbody tr th:only-of-type {\n",
       "        vertical-align: middle;\n",
       "    }\n",
       "\n",
       "    .dataframe tbody tr th {\n",
       "        vertical-align: top;\n",
       "    }\n",
       "\n",
       "    .dataframe thead th {\n",
       "        text-align: right;\n",
       "    }\n",
       "</style>\n",
       "<table border=\"1\" class=\"dataframe\">\n",
       "  <thead>\n",
       "    <tr style=\"text-align: right;\">\n",
       "      <th></th>\n",
       "      <th>Path</th>\n",
       "      <th>Emotion</th>\n",
       "    </tr>\n",
       "  </thead>\n",
       "  <tbody>\n",
       "    <tr>\n",
       "      <th>0</th>\n",
       "      <td>./Dataset/Audio/Speech_RAVDESS\\Actor_01\\03-01-...</td>\n",
       "      <td>neutral</td>\n",
       "    </tr>\n",
       "    <tr>\n",
       "      <th>1</th>\n",
       "      <td>./Dataset/Audio/Speech_RAVDESS\\Actor_01\\03-01-...</td>\n",
       "      <td>neutral</td>\n",
       "    </tr>\n",
       "    <tr>\n",
       "      <th>2</th>\n",
       "      <td>./Dataset/Audio/Speech_RAVDESS\\Actor_01\\03-01-...</td>\n",
       "      <td>neutral</td>\n",
       "    </tr>\n",
       "    <tr>\n",
       "      <th>3</th>\n",
       "      <td>./Dataset/Audio/Speech_RAVDESS\\Actor_01\\03-01-...</td>\n",
       "      <td>neutral</td>\n",
       "    </tr>\n",
       "    <tr>\n",
       "      <th>4</th>\n",
       "      <td>./Dataset/Audio/Speech_RAVDESS\\Actor_01\\03-01-...</td>\n",
       "      <td>calm</td>\n",
       "    </tr>\n",
       "    <tr>\n",
       "      <th>...</th>\n",
       "      <td>...</td>\n",
       "      <td>...</td>\n",
       "    </tr>\n",
       "    <tr>\n",
       "      <th>1435</th>\n",
       "      <td>./Dataset/Audio/Speech_RAVDESS\\Actor_24\\03-01-...</td>\n",
       "      <td>surprised</td>\n",
       "    </tr>\n",
       "    <tr>\n",
       "      <th>1436</th>\n",
       "      <td>./Dataset/Audio/Speech_RAVDESS\\Actor_24\\03-01-...</td>\n",
       "      <td>surprised</td>\n",
       "    </tr>\n",
       "    <tr>\n",
       "      <th>1437</th>\n",
       "      <td>./Dataset/Audio/Speech_RAVDESS\\Actor_24\\03-01-...</td>\n",
       "      <td>surprised</td>\n",
       "    </tr>\n",
       "    <tr>\n",
       "      <th>1438</th>\n",
       "      <td>./Dataset/Audio/Speech_RAVDESS\\Actor_24\\03-01-...</td>\n",
       "      <td>surprised</td>\n",
       "    </tr>\n",
       "    <tr>\n",
       "      <th>1439</th>\n",
       "      <td>./Dataset/Audio/Speech_RAVDESS\\Actor_24\\03-01-...</td>\n",
       "      <td>surprised</td>\n",
       "    </tr>\n",
       "  </tbody>\n",
       "</table>\n",
       "<p>1440 rows × 2 columns</p>\n",
       "</div>"
      ],
      "text/plain": [
       "                                                   Path    Emotion\n",
       "0     ./Dataset/Audio/Speech_RAVDESS\\Actor_01\\03-01-...    neutral\n",
       "1     ./Dataset/Audio/Speech_RAVDESS\\Actor_01\\03-01-...    neutral\n",
       "2     ./Dataset/Audio/Speech_RAVDESS\\Actor_01\\03-01-...    neutral\n",
       "3     ./Dataset/Audio/Speech_RAVDESS\\Actor_01\\03-01-...    neutral\n",
       "4     ./Dataset/Audio/Speech_RAVDESS\\Actor_01\\03-01-...       calm\n",
       "...                                                 ...        ...\n",
       "1435  ./Dataset/Audio/Speech_RAVDESS\\Actor_24\\03-01-...  surprised\n",
       "1436  ./Dataset/Audio/Speech_RAVDESS\\Actor_24\\03-01-...  surprised\n",
       "1437  ./Dataset/Audio/Speech_RAVDESS\\Actor_24\\03-01-...  surprised\n",
       "1438  ./Dataset/Audio/Speech_RAVDESS\\Actor_24\\03-01-...  surprised\n",
       "1439  ./Dataset/Audio/Speech_RAVDESS\\Actor_24\\03-01-...  surprised\n",
       "\n",
       "[1440 rows x 2 columns]"
      ]
     },
     "execution_count": 32,
     "metadata": {},
     "output_type": "execute_result"
    }
   ],
   "source": [
    "# Inisialisasi list untuk menyimpan path dan emotion dari setiap file audio\n",
    "data = {'Path': [], 'Emotion': []}\n",
    "\n",
    "# Iterasi melalui setiap folder actor\n",
    "for actor_folder in os.listdir(RAVDESS):\n",
    "    actor_path = os.path.join(RAVDESS, actor_folder)\n",
    "    \n",
    "    # Periksa apakah itu adalah folder\n",
    "    if os.path.isdir(actor_path):\n",
    "        \n",
    "        # Iterasi melalui setiap file audio dalam folder actor\n",
    "        for audio_file in os.listdir(actor_path):\n",
    "            # Periksa apakah itu adalah file audio dengan format yang benar\n",
    "            if audio_file.endswith('.wav'):\n",
    "                # Ambil emotion dari nama file\n",
    "                emotion = int(audio_file.split('-')[2])\n",
    "                \n",
    "                # Mapping kode emosi ke nama emosi\n",
    "                emotion_mapping = {\n",
    "                    1: 'neutral',\n",
    "                    2: 'calm',\n",
    "                    3: 'happy',\n",
    "                    4: 'sad',\n",
    "                    5: 'angry',\n",
    "                    6: 'fearful',\n",
    "                    7: 'disgust',\n",
    "                    8: 'surprised'\n",
    "                }\n",
    "                \n",
    "                # Tambahkan path dan emosi ke dalam list\n",
    "                data['Path'].append(os.path.join(actor_path, audio_file))\n",
    "                data['Emotion'].append(emotion_mapping[emotion])\n",
    "\n",
    "# Buat DataFrame dari data\n",
    "df_ravdess = pd.DataFrame(data)\n",
    "\n",
    "df_ravdess"
   ]
  },
  {
   "cell_type": "code",
   "execution_count": 33,
   "metadata": {},
   "outputs": [
    {
     "data": {
      "text/plain": [
       "(1440, 2)"
      ]
     },
     "execution_count": 33,
     "metadata": {},
     "output_type": "execute_result"
    }
   ],
   "source": [
    "df_ravdess.shape"
   ]
  },
  {
   "cell_type": "markdown",
   "metadata": {},
   "source": [
    "## ✨ 1.2 SAVEE Dataset"
   ]
  },
  {
   "cell_type": "markdown",
   "metadata": {},
   "source": [
    "https://www.kaggle.com/datasets/ejlok1/surrey-audiovisual-expressed-emotion-savee/data"
   ]
  },
  {
   "cell_type": "code",
   "execution_count": 34,
   "metadata": {},
   "outputs": [
    {
     "data": {
      "text/html": [
       "<div>\n",
       "<style scoped>\n",
       "    .dataframe tbody tr th:only-of-type {\n",
       "        vertical-align: middle;\n",
       "    }\n",
       "\n",
       "    .dataframe tbody tr th {\n",
       "        vertical-align: top;\n",
       "    }\n",
       "\n",
       "    .dataframe thead th {\n",
       "        text-align: right;\n",
       "    }\n",
       "</style>\n",
       "<table border=\"1\" class=\"dataframe\">\n",
       "  <thead>\n",
       "    <tr style=\"text-align: right;\">\n",
       "      <th></th>\n",
       "      <th>Path</th>\n",
       "      <th>Emotion</th>\n",
       "    </tr>\n",
       "  </thead>\n",
       "  <tbody>\n",
       "    <tr>\n",
       "      <th>0</th>\n",
       "      <td>./Dataset/Audio/Speech_SAVEE\\ALL\\DC_a01.wav</td>\n",
       "      <td>angry</td>\n",
       "    </tr>\n",
       "    <tr>\n",
       "      <th>1</th>\n",
       "      <td>./Dataset/Audio/Speech_SAVEE\\ALL\\DC_a02.wav</td>\n",
       "      <td>angry</td>\n",
       "    </tr>\n",
       "    <tr>\n",
       "      <th>2</th>\n",
       "      <td>./Dataset/Audio/Speech_SAVEE\\ALL\\DC_a03.wav</td>\n",
       "      <td>angry</td>\n",
       "    </tr>\n",
       "    <tr>\n",
       "      <th>3</th>\n",
       "      <td>./Dataset/Audio/Speech_SAVEE\\ALL\\DC_a04.wav</td>\n",
       "      <td>angry</td>\n",
       "    </tr>\n",
       "    <tr>\n",
       "      <th>4</th>\n",
       "      <td>./Dataset/Audio/Speech_SAVEE\\ALL\\DC_a05.wav</td>\n",
       "      <td>angry</td>\n",
       "    </tr>\n",
       "    <tr>\n",
       "      <th>...</th>\n",
       "      <td>...</td>\n",
       "      <td>...</td>\n",
       "    </tr>\n",
       "    <tr>\n",
       "      <th>475</th>\n",
       "      <td>./Dataset/Audio/Speech_SAVEE\\ALL\\KL_su11.wav</td>\n",
       "      <td>surprised</td>\n",
       "    </tr>\n",
       "    <tr>\n",
       "      <th>476</th>\n",
       "      <td>./Dataset/Audio/Speech_SAVEE\\ALL\\KL_su12.wav</td>\n",
       "      <td>surprised</td>\n",
       "    </tr>\n",
       "    <tr>\n",
       "      <th>477</th>\n",
       "      <td>./Dataset/Audio/Speech_SAVEE\\ALL\\KL_su13.wav</td>\n",
       "      <td>surprised</td>\n",
       "    </tr>\n",
       "    <tr>\n",
       "      <th>478</th>\n",
       "      <td>./Dataset/Audio/Speech_SAVEE\\ALL\\KL_su14.wav</td>\n",
       "      <td>surprised</td>\n",
       "    </tr>\n",
       "    <tr>\n",
       "      <th>479</th>\n",
       "      <td>./Dataset/Audio/Speech_SAVEE\\ALL\\KL_su15.wav</td>\n",
       "      <td>surprised</td>\n",
       "    </tr>\n",
       "  </tbody>\n",
       "</table>\n",
       "<p>480 rows × 2 columns</p>\n",
       "</div>"
      ],
      "text/plain": [
       "                                             Path    Emotion\n",
       "0     ./Dataset/Audio/Speech_SAVEE\\ALL\\DC_a01.wav      angry\n",
       "1     ./Dataset/Audio/Speech_SAVEE\\ALL\\DC_a02.wav      angry\n",
       "2     ./Dataset/Audio/Speech_SAVEE\\ALL\\DC_a03.wav      angry\n",
       "3     ./Dataset/Audio/Speech_SAVEE\\ALL\\DC_a04.wav      angry\n",
       "4     ./Dataset/Audio/Speech_SAVEE\\ALL\\DC_a05.wav      angry\n",
       "..                                            ...        ...\n",
       "475  ./Dataset/Audio/Speech_SAVEE\\ALL\\KL_su11.wav  surprised\n",
       "476  ./Dataset/Audio/Speech_SAVEE\\ALL\\KL_su12.wav  surprised\n",
       "477  ./Dataset/Audio/Speech_SAVEE\\ALL\\KL_su13.wav  surprised\n",
       "478  ./Dataset/Audio/Speech_SAVEE\\ALL\\KL_su14.wav  surprised\n",
       "479  ./Dataset/Audio/Speech_SAVEE\\ALL\\KL_su15.wav  surprised\n",
       "\n",
       "[480 rows x 2 columns]"
      ]
     },
     "execution_count": 34,
     "metadata": {},
     "output_type": "execute_result"
    }
   ],
   "source": [
    "# Inisialisasi list untuk menyimpan path dan emotion dari setiap file audio\n",
    "data = {'Path': [], 'Emotion': []}\n",
    "\n",
    "# Iterasi melalui setiap folder actor\n",
    "for all_folder in os.listdir(SAVEE):\n",
    "    all_path = os.path.join(SAVEE, all_folder)\n",
    "\n",
    "    \n",
    "    # Periksa apakah itu adalah folder\n",
    "    if os.path.isdir(all_path):\n",
    "        \n",
    "        # Iterasi melalui setiap file audio dalam folder actor\n",
    "        for audio_file in os.listdir(all_path):\n",
    "            # Periksa apakah itu adalah file audio dengan format yang benar\n",
    "            if audio_file.endswith('.wav'):\n",
    "                # Ambil emotion dari nama file\n",
    "                emotion = audio_file.split('_')[1][:-6]\n",
    "                \n",
    "                # Mapping kode emosi ke nama emosi\n",
    "                emotion_mapping = {\n",
    "                    'a': 'angry',\n",
    "                    'd': 'disgust',\n",
    "                    'f': 'fearful',\n",
    "                    'h': 'happy',\n",
    "                    'n': 'neutral',\n",
    "                    'sa': 'sad',\n",
    "                    'su': 'surprised'\n",
    "                }\n",
    "\n",
    "                \n",
    "                # Tambahkan path dan emosi ke dalam list\n",
    "                data['Path'].append(os.path.join(all_path, audio_file))\n",
    "                data['Emotion'].append(emotion_mapping[emotion])\n",
    "\n",
    "# Buat DataFrame dari data\n",
    "df_savee = pd.DataFrame(data)\n",
    "\n",
    "df_savee"
   ]
  },
  {
   "cell_type": "code",
   "execution_count": 35,
   "metadata": {},
   "outputs": [
    {
     "data": {
      "text/plain": [
       "(480, 2)"
      ]
     },
     "execution_count": 35,
     "metadata": {},
     "output_type": "execute_result"
    }
   ],
   "source": [
    "df_savee.shape"
   ]
  },
  {
   "cell_type": "markdown",
   "metadata": {},
   "source": [
    "## ✨ 1.3 TESS Dataset"
   ]
  },
  {
   "cell_type": "markdown",
   "metadata": {},
   "source": [
    "https://tspace.library.utoronto.ca/handle/1807/24487"
   ]
  },
  {
   "cell_type": "code",
   "execution_count": 36,
   "metadata": {},
   "outputs": [
    {
     "data": {
      "text/html": [
       "<div>\n",
       "<style scoped>\n",
       "    .dataframe tbody tr th:only-of-type {\n",
       "        vertical-align: middle;\n",
       "    }\n",
       "\n",
       "    .dataframe tbody tr th {\n",
       "        vertical-align: top;\n",
       "    }\n",
       "\n",
       "    .dataframe thead th {\n",
       "        text-align: right;\n",
       "    }\n",
       "</style>\n",
       "<table border=\"1\" class=\"dataframe\">\n",
       "  <thead>\n",
       "    <tr style=\"text-align: right;\">\n",
       "      <th></th>\n",
       "      <th>Path</th>\n",
       "      <th>Emotion</th>\n",
       "    </tr>\n",
       "  </thead>\n",
       "  <tbody>\n",
       "    <tr>\n",
       "      <th>0</th>\n",
       "      <td>./Dataset/Audio/Speech_TESS\\OAF_back_angry.wav</td>\n",
       "      <td>angry</td>\n",
       "    </tr>\n",
       "    <tr>\n",
       "      <th>1</th>\n",
       "      <td>./Dataset/Audio/Speech_TESS\\OAF_back_disgust.wav</td>\n",
       "      <td>disgust</td>\n",
       "    </tr>\n",
       "    <tr>\n",
       "      <th>2</th>\n",
       "      <td>./Dataset/Audio/Speech_TESS\\OAF_back_fear.wav</td>\n",
       "      <td>fearful</td>\n",
       "    </tr>\n",
       "    <tr>\n",
       "      <th>3</th>\n",
       "      <td>./Dataset/Audio/Speech_TESS\\OAF_back_happy.wav</td>\n",
       "      <td>happy</td>\n",
       "    </tr>\n",
       "    <tr>\n",
       "      <th>4</th>\n",
       "      <td>./Dataset/Audio/Speech_TESS\\OAF_back_neutral.wav</td>\n",
       "      <td>neutral</td>\n",
       "    </tr>\n",
       "    <tr>\n",
       "      <th>...</th>\n",
       "      <td>...</td>\n",
       "      <td>...</td>\n",
       "    </tr>\n",
       "    <tr>\n",
       "      <th>2795</th>\n",
       "      <td>./Dataset/Audio/Speech_TESS\\YAF_youth_fear.wav</td>\n",
       "      <td>fearful</td>\n",
       "    </tr>\n",
       "    <tr>\n",
       "      <th>2796</th>\n",
       "      <td>./Dataset/Audio/Speech_TESS\\YAF_youth_happy.wav</td>\n",
       "      <td>happy</td>\n",
       "    </tr>\n",
       "    <tr>\n",
       "      <th>2797</th>\n",
       "      <td>./Dataset/Audio/Speech_TESS\\YAF_youth_neutral.wav</td>\n",
       "      <td>neutral</td>\n",
       "    </tr>\n",
       "    <tr>\n",
       "      <th>2798</th>\n",
       "      <td>./Dataset/Audio/Speech_TESS\\YAF_youth_ps.wav</td>\n",
       "      <td>surprised</td>\n",
       "    </tr>\n",
       "    <tr>\n",
       "      <th>2799</th>\n",
       "      <td>./Dataset/Audio/Speech_TESS\\YAF_youth_sad.wav</td>\n",
       "      <td>sad</td>\n",
       "    </tr>\n",
       "  </tbody>\n",
       "</table>\n",
       "<p>2800 rows × 2 columns</p>\n",
       "</div>"
      ],
      "text/plain": [
       "                                                   Path    Emotion\n",
       "0        ./Dataset/Audio/Speech_TESS\\OAF_back_angry.wav      angry\n",
       "1      ./Dataset/Audio/Speech_TESS\\OAF_back_disgust.wav    disgust\n",
       "2         ./Dataset/Audio/Speech_TESS\\OAF_back_fear.wav    fearful\n",
       "3        ./Dataset/Audio/Speech_TESS\\OAF_back_happy.wav      happy\n",
       "4      ./Dataset/Audio/Speech_TESS\\OAF_back_neutral.wav    neutral\n",
       "...                                                 ...        ...\n",
       "2795     ./Dataset/Audio/Speech_TESS\\YAF_youth_fear.wav    fearful\n",
       "2796    ./Dataset/Audio/Speech_TESS\\YAF_youth_happy.wav      happy\n",
       "2797  ./Dataset/Audio/Speech_TESS\\YAF_youth_neutral.wav    neutral\n",
       "2798       ./Dataset/Audio/Speech_TESS\\YAF_youth_ps.wav  surprised\n",
       "2799      ./Dataset/Audio/Speech_TESS\\YAF_youth_sad.wav        sad\n",
       "\n",
       "[2800 rows x 2 columns]"
      ]
     },
     "execution_count": 36,
     "metadata": {},
     "output_type": "execute_result"
    }
   ],
   "source": [
    "# Inisialisasi list untuk menyimpan path dan emotion dari setiap file audio\n",
    "data = {'Path': [], 'Emotion': []}\n",
    "        \n",
    "# Iterasi melalui setiap file audio dalam folder actor\n",
    "for audio_file in os.listdir(TESS):\n",
    "    # Periksa apakah itu adalah file audio dengan format yang benar\n",
    "    if audio_file.endswith('.wav'):\n",
    "        # Ambil emotion dari nama file\n",
    "        emotion = audio_file.split('_')[2].split('.')[0]\n",
    "        \n",
    "        # Mapping kode emosi ke nama emosi\n",
    "        emotion_mapping = {\n",
    "            'angry': 'angry',\n",
    "            'disgust': 'disgust',\n",
    "            'fear': 'fearful',\n",
    "            'happy': 'happy',\n",
    "            'neutral': 'neutral',\n",
    "            'sad': 'sad',\n",
    "            'ps': 'surprised'\n",
    "        }\n",
    "\n",
    "        \n",
    "        # Tambahkan path dan emosi ke dalam list\n",
    "        data['Path'].append(os.path.join(TESS, audio_file))\n",
    "        data['Emotion'].append(emotion_mapping[emotion])\n",
    "\n",
    "# Buat DataFrame dari data\n",
    "df_tess = pd.DataFrame(data)\n",
    "\n",
    "df_tess"
   ]
  },
  {
   "cell_type": "markdown",
   "metadata": {},
   "source": [
    "## ✨ 1.4 URDU Dataset"
   ]
  },
  {
   "cell_type": "markdown",
   "metadata": {},
   "source": [
    "🔎 Dataset ini saya tambahkan ketika setelah inference modelnya terdapat banyak klasifikasi yang kurang tepat"
   ]
  },
  {
   "cell_type": "code",
   "execution_count": 37,
   "metadata": {},
   "outputs": [
    {
     "data": {
      "text/html": [
       "<div>\n",
       "<style scoped>\n",
       "    .dataframe tbody tr th:only-of-type {\n",
       "        vertical-align: middle;\n",
       "    }\n",
       "\n",
       "    .dataframe tbody tr th {\n",
       "        vertical-align: top;\n",
       "    }\n",
       "\n",
       "    .dataframe thead th {\n",
       "        text-align: right;\n",
       "    }\n",
       "</style>\n",
       "<table border=\"1\" class=\"dataframe\">\n",
       "  <thead>\n",
       "    <tr style=\"text-align: right;\">\n",
       "      <th></th>\n",
       "      <th>Path</th>\n",
       "      <th>Emotion</th>\n",
       "    </tr>\n",
       "  </thead>\n",
       "  <tbody>\n",
       "    <tr>\n",
       "      <th>0</th>\n",
       "      <td>./Dataset/Audio/Speech_URDU\\Angry\\SM1_F10_A010...</td>\n",
       "      <td>angry</td>\n",
       "    </tr>\n",
       "    <tr>\n",
       "      <th>1</th>\n",
       "      <td>./Dataset/Audio/Speech_URDU\\Angry\\SM1_F11_A011...</td>\n",
       "      <td>angry</td>\n",
       "    </tr>\n",
       "    <tr>\n",
       "      <th>2</th>\n",
       "      <td>./Dataset/Audio/Speech_URDU\\Angry\\SM1_F12_A012...</td>\n",
       "      <td>angry</td>\n",
       "    </tr>\n",
       "    <tr>\n",
       "      <th>3</th>\n",
       "      <td>./Dataset/Audio/Speech_URDU\\Angry\\SM1_F13_A013...</td>\n",
       "      <td>angry</td>\n",
       "    </tr>\n",
       "    <tr>\n",
       "      <th>4</th>\n",
       "      <td>./Dataset/Audio/Speech_URDU\\Angry\\SM1_F14_A014...</td>\n",
       "      <td>angry</td>\n",
       "    </tr>\n",
       "    <tr>\n",
       "      <th>...</th>\n",
       "      <td>...</td>\n",
       "      <td>...</td>\n",
       "    </tr>\n",
       "    <tr>\n",
       "      <th>395</th>\n",
       "      <td>./Dataset/Audio/Speech_URDU\\Sad\\SM27_F4_S096.wav</td>\n",
       "      <td>sad</td>\n",
       "    </tr>\n",
       "    <tr>\n",
       "      <th>396</th>\n",
       "      <td>./Dataset/Audio/Speech_URDU\\Sad\\SM6_F1_S097.wav</td>\n",
       "      <td>sad</td>\n",
       "    </tr>\n",
       "    <tr>\n",
       "      <th>397</th>\n",
       "      <td>./Dataset/Audio/Speech_URDU\\Sad\\SM6_F2_S098.wav</td>\n",
       "      <td>sad</td>\n",
       "    </tr>\n",
       "    <tr>\n",
       "      <th>398</th>\n",
       "      <td>./Dataset/Audio/Speech_URDU\\Sad\\SM6_F3_S099.wav</td>\n",
       "      <td>sad</td>\n",
       "    </tr>\n",
       "    <tr>\n",
       "      <th>399</th>\n",
       "      <td>./Dataset/Audio/Speech_URDU\\Sad\\SM6_F4_S0100.wav</td>\n",
       "      <td>sad</td>\n",
       "    </tr>\n",
       "  </tbody>\n",
       "</table>\n",
       "<p>400 rows × 2 columns</p>\n",
       "</div>"
      ],
      "text/plain": [
       "                                                  Path Emotion\n",
       "0    ./Dataset/Audio/Speech_URDU\\Angry\\SM1_F10_A010...   angry\n",
       "1    ./Dataset/Audio/Speech_URDU\\Angry\\SM1_F11_A011...   angry\n",
       "2    ./Dataset/Audio/Speech_URDU\\Angry\\SM1_F12_A012...   angry\n",
       "3    ./Dataset/Audio/Speech_URDU\\Angry\\SM1_F13_A013...   angry\n",
       "4    ./Dataset/Audio/Speech_URDU\\Angry\\SM1_F14_A014...   angry\n",
       "..                                                 ...     ...\n",
       "395   ./Dataset/Audio/Speech_URDU\\Sad\\SM27_F4_S096.wav     sad\n",
       "396    ./Dataset/Audio/Speech_URDU\\Sad\\SM6_F1_S097.wav     sad\n",
       "397    ./Dataset/Audio/Speech_URDU\\Sad\\SM6_F2_S098.wav     sad\n",
       "398    ./Dataset/Audio/Speech_URDU\\Sad\\SM6_F3_S099.wav     sad\n",
       "399   ./Dataset/Audio/Speech_URDU\\Sad\\SM6_F4_S0100.wav     sad\n",
       "\n",
       "[400 rows x 2 columns]"
      ]
     },
     "execution_count": 37,
     "metadata": {},
     "output_type": "execute_result"
    }
   ],
   "source": [
    "# Inisialisasi list untuk menyimpan path dan emotion dari setiap file audio\n",
    "data = {'Path': [], 'Emotion': []}\n",
    "\n",
    "# Iterasi melalui setiap folder actor\n",
    "for emotion_folder in os.listdir(URDU):\n",
    "    emotion_path = os.path.join(URDU, emotion_folder)\n",
    "\n",
    "    # Periksa apakah itu adalah folder\n",
    "    if os.path.isdir(emotion_path):\n",
    "        \n",
    "        # Iterasi melalui setiap file audio dalam folder actor\n",
    "        for audio_file in os.listdir(emotion_path):\n",
    "            # print(audio_file)\n",
    "            # Periksa apakah itu adalah file audio dengan format yang benar\n",
    "            if audio_file.endswith('.wav'):\n",
    "                # Ambil emotion dari nama file\n",
    "                # emotion = int(audio_file.split('-')[2])\n",
    "                \n",
    "                # # Mapping kode emosi ke nama emosi\n",
    "                # emotion_mapping = {\n",
    "                #     1: 'neutral',\n",
    "                #     2: 'calm',\n",
    "                #     3: 'happy',\n",
    "                #     4: 'sad',\n",
    "                #     5: 'angry',\n",
    "                #     6: 'fearful',\n",
    "                #     7: 'disgust',\n",
    "                #     8: 'surprised'\n",
    "                # }\n",
    "                \n",
    "                # Tambahkan path dan emosi ke dalam list\n",
    "                data['Path'].append(os.path.join(emotion_path, audio_file))\n",
    "                data['Emotion'].append(emotion_mapping[emotion_folder.lower()])\n",
    "\n",
    "# Buat DataFrame dari data\n",
    "df_urdu = pd.DataFrame(data)\n",
    "\n",
    "df_urdu"
   ]
  },
  {
   "cell_type": "markdown",
   "metadata": {},
   "source": [
    "# 🎯 **Step 3: Combined the datasets**\n",
    "---"
   ]
  },
  {
   "cell_type": "code",
   "execution_count": 38,
   "metadata": {},
   "outputs": [
    {
     "data": {
      "text/html": [
       "<div>\n",
       "<style scoped>\n",
       "    .dataframe tbody tr th:only-of-type {\n",
       "        vertical-align: middle;\n",
       "    }\n",
       "\n",
       "    .dataframe tbody tr th {\n",
       "        vertical-align: top;\n",
       "    }\n",
       "\n",
       "    .dataframe thead th {\n",
       "        text-align: right;\n",
       "    }\n",
       "</style>\n",
       "<table border=\"1\" class=\"dataframe\">\n",
       "  <thead>\n",
       "    <tr style=\"text-align: right;\">\n",
       "      <th></th>\n",
       "      <th>Path</th>\n",
       "      <th>Emotion</th>\n",
       "    </tr>\n",
       "  </thead>\n",
       "  <tbody>\n",
       "    <tr>\n",
       "      <th>0</th>\n",
       "      <td>./Dataset/Audio/Speech_RAVDESS\\Actor_01\\03-01-...</td>\n",
       "      <td>neutral</td>\n",
       "    </tr>\n",
       "    <tr>\n",
       "      <th>1</th>\n",
       "      <td>./Dataset/Audio/Speech_RAVDESS\\Actor_01\\03-01-...</td>\n",
       "      <td>neutral</td>\n",
       "    </tr>\n",
       "    <tr>\n",
       "      <th>2</th>\n",
       "      <td>./Dataset/Audio/Speech_RAVDESS\\Actor_01\\03-01-...</td>\n",
       "      <td>neutral</td>\n",
       "    </tr>\n",
       "    <tr>\n",
       "      <th>3</th>\n",
       "      <td>./Dataset/Audio/Speech_RAVDESS\\Actor_01\\03-01-...</td>\n",
       "      <td>neutral</td>\n",
       "    </tr>\n",
       "    <tr>\n",
       "      <th>4</th>\n",
       "      <td>./Dataset/Audio/Speech_RAVDESS\\Actor_01\\03-01-...</td>\n",
       "      <td>calm</td>\n",
       "    </tr>\n",
       "    <tr>\n",
       "      <th>...</th>\n",
       "      <td>...</td>\n",
       "      <td>...</td>\n",
       "    </tr>\n",
       "    <tr>\n",
       "      <th>5115</th>\n",
       "      <td>./Dataset/Audio/Speech_URDU\\Sad\\SM27_F4_S096.wav</td>\n",
       "      <td>sad</td>\n",
       "    </tr>\n",
       "    <tr>\n",
       "      <th>5116</th>\n",
       "      <td>./Dataset/Audio/Speech_URDU\\Sad\\SM6_F1_S097.wav</td>\n",
       "      <td>sad</td>\n",
       "    </tr>\n",
       "    <tr>\n",
       "      <th>5117</th>\n",
       "      <td>./Dataset/Audio/Speech_URDU\\Sad\\SM6_F2_S098.wav</td>\n",
       "      <td>sad</td>\n",
       "    </tr>\n",
       "    <tr>\n",
       "      <th>5118</th>\n",
       "      <td>./Dataset/Audio/Speech_URDU\\Sad\\SM6_F3_S099.wav</td>\n",
       "      <td>sad</td>\n",
       "    </tr>\n",
       "    <tr>\n",
       "      <th>5119</th>\n",
       "      <td>./Dataset/Audio/Speech_URDU\\Sad\\SM6_F4_S0100.wav</td>\n",
       "      <td>sad</td>\n",
       "    </tr>\n",
       "  </tbody>\n",
       "</table>\n",
       "<p>5120 rows × 2 columns</p>\n",
       "</div>"
      ],
      "text/plain": [
       "                                                   Path  Emotion\n",
       "0     ./Dataset/Audio/Speech_RAVDESS\\Actor_01\\03-01-...  neutral\n",
       "1     ./Dataset/Audio/Speech_RAVDESS\\Actor_01\\03-01-...  neutral\n",
       "2     ./Dataset/Audio/Speech_RAVDESS\\Actor_01\\03-01-...  neutral\n",
       "3     ./Dataset/Audio/Speech_RAVDESS\\Actor_01\\03-01-...  neutral\n",
       "4     ./Dataset/Audio/Speech_RAVDESS\\Actor_01\\03-01-...     calm\n",
       "...                                                 ...      ...\n",
       "5115   ./Dataset/Audio/Speech_URDU\\Sad\\SM27_F4_S096.wav      sad\n",
       "5116    ./Dataset/Audio/Speech_URDU\\Sad\\SM6_F1_S097.wav      sad\n",
       "5117    ./Dataset/Audio/Speech_URDU\\Sad\\SM6_F2_S098.wav      sad\n",
       "5118    ./Dataset/Audio/Speech_URDU\\Sad\\SM6_F3_S099.wav      sad\n",
       "5119   ./Dataset/Audio/Speech_URDU\\Sad\\SM6_F4_S0100.wav      sad\n",
       "\n",
       "[5120 rows x 2 columns]"
      ]
     },
     "execution_count": 38,
     "metadata": {},
     "output_type": "execute_result"
    }
   ],
   "source": [
    "df_combined = pd.concat([df_ravdess, df_tess, df_savee, df_urdu], ignore_index=True)\n",
    "\n",
    "df_combined"
   ]
  },
  {
   "cell_type": "markdown",
   "metadata": {},
   "source": [
    "# 🎯 **Step 4: Save the data in CSV**\n",
    "---"
   ]
  },
  {
   "cell_type": "code",
   "execution_count": 39,
   "metadata": {},
   "outputs": [],
   "source": [
    "df_combined.to_csv('./Dataset/df_combined.csv', index=False)"
   ]
  },
  {
   "cell_type": "markdown",
   "metadata": {},
   "source": [
    "## ✨ 4.1 RAVDESS Dataset"
   ]
  },
  {
   "cell_type": "code",
   "execution_count": 40,
   "metadata": {},
   "outputs": [],
   "source": [
    "df_ravdess.to_csv('./Dataset/df_ravdess.csv', index=False)"
   ]
  },
  {
   "cell_type": "markdown",
   "metadata": {},
   "source": [
    "## ✨ 4.2 SAVEE Dataset"
   ]
  },
  {
   "cell_type": "code",
   "execution_count": 41,
   "metadata": {},
   "outputs": [],
   "source": [
    "df_savee.to_csv('./Dataset/df_savee.csv', index=False)"
   ]
  },
  {
   "cell_type": "markdown",
   "metadata": {},
   "source": [
    "## ✨ 4.3 TESS Dataset"
   ]
  },
  {
   "cell_type": "code",
   "execution_count": 42,
   "metadata": {},
   "outputs": [],
   "source": [
    "df_tess.to_csv('./Dataset/df_tess.csv', index=False)"
   ]
  },
  {
   "cell_type": "markdown",
   "metadata": {},
   "source": [
    "## ✨ 4.4 TESS Dataset"
   ]
  },
  {
   "cell_type": "code",
   "execution_count": 43,
   "metadata": {},
   "outputs": [],
   "source": [
    "df_urdu.to_csv('./Dataset/df_urdu.csv', index=False)"
   ]
  }
 ],
 "metadata": {
  "kernelspec": {
   "display_name": "finalproject",
   "language": "python",
   "name": "python3"
  },
  "language_info": {
   "codemirror_mode": {
    "name": "ipython",
    "version": 3
   },
   "file_extension": ".py",
   "mimetype": "text/x-python",
   "name": "python",
   "nbconvert_exporter": "python",
   "pygments_lexer": "ipython3",
   "version": "3.10.11"
  }
 },
 "nbformat": 4,
 "nbformat_minor": 2
}
